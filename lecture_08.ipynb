{
 "cells": [
  {
   "cell_type": "markdown",
   "metadata": {},
   "source": [
    "# lecture 8 - Stop Words\n",
    "\n",
    "Words like \"a\" and \"the\" appear so frequently that they don't require tagging as thoroughly as nouns, verbs and modifiers. We call these *stop words*, and they can be filtered from the text to be processed. spaCy holds a built-in list of some 305 English stop words."
   ]
  },
  {
   "cell_type": "code",
   "execution_count": 3,
   "metadata": {},
   "outputs": [],
   "source": [
    "import spacy"
   ]
  },
  {
   "cell_type": "code",
   "execution_count": 4,
   "metadata": {},
   "outputs": [],
   "source": [
    "nlp = spacy.load('en_core_web_sm')"
   ]
  },
  {
   "cell_type": "code",
   "execution_count": 5,
   "metadata": {},
   "outputs": [
    {
     "name": "stdout",
     "output_type": "stream",
     "text": [
      "{'front', 'could', 'two', 'along', 'none', 'herself', 'what', 'thus', '’ve', 'neither', 'during', 'using', 'made', 'six', 'in', 'ca', 'might', 'just', 'whoever', 'you', 'indeed', 'fifty', 'enough', 'several', 'rather', 'latter', 'does', \"'ve\", 'twelve', 'after', 'if', 'everything', 'back', 'been', 'eleven', 'become', 'can', 'no', 'yours', 'more', 'yet', 'although', 'beyond', 'he', 'she', 'before', 'please', 'third', 'them', 'and', 'used', 'this', 'may', 'i', 'those', 'ourselves', 'move', 'part', 'us', 'towards', 'since', 'sometime', 'are', 'except', 'four', 'seemed', 'due', 'here', 'themselves', 'via', 'behind', 'few', 're', 'to', 'wherein', 'bottom', 'seem', 'most', 'these', 'forty', 'hereupon', 'some', 'about', 'or', '‘m', 'becoming', 'who', 'their', '‘ve', 'never', 'seems', 'around', 'had', 'once', 'further', 'itself', 'will', 'why', 'anything', '’m', \"'ll\", 'serious', 'anywhere', 'did', 'its', 'others', 'whom', 'least', 'amongst', 'various', 'thereupon', 'how', \"'m\", 'whence', 'something', 'whole', 'seeming', 'though', 'both', 'amount', 'somehow', 'your', 'other', 'is', 'nobody', 'became', 'make', 'by', 'thereby', 'where', 'cannot', 'it', '‘re', 'whereupon', 'yourself', 'himself', 'elsewhere', 'always', 'either', 'wherever', 'twenty', 'besides', 'hereby', 'his', 'him', 'somewhere', 'must', 'three', 'keep', \"n't\", 'call', '‘ll', 'empty', 'they', 'being', 'we', 'nevertheless', 'still', 'between', 'same', 'have', 'next', 'off', '’ll', 'beforehand', 'hence', 'was', 'am', 'among', 'whereas', 'full', 'whereby', \"'re\", 'whatever', \"'d\", 'fifteen', 'within', 'ours', 'at', 'else', 'someone', 'again', 'too', 'formerly', 'which', 'so', 'across', 'would', 'while', 'noone', 'put', 'until', 'almost', 'through', 'very', '‘s', 'do', 'nowhere', 'yourselves', 'mostly', 'an', 'hereafter', 'all', 'show', 'than', 'alone', '’d', 'own', 'becomes', 'one', 'hundred', 'sometimes', 'only', 'mine', 'ever', 'thru', 'has', 'last', 'less', 'nothing', 'because', 'unless', 'another', 'toward', 'into', 'five', 'first', 'regarding', 'anyway', '’re', 'not', 'well', 'against', 'take', 'beside', 'below', 'latterly', 'me', 'onto', 'sixty', '‘d', 'really', 'herein', 'namely', 'then', 'eight', 'that', \"'s\", 'every', 'everywhere', 'any', 'there', 'our', 'even', 'out', 'as', 'say', 'ten', 'however', 'moreover', 'many', 'be', 'hers', 'done', 'already', 'were', 'therefore', 'now', 'nor', 'my', 'former', 'whether', 'but', 'whither', 'side', 'thereafter', 'of', 'see', 'give', 'go', 'get', 'meanwhile', 'otherwise', 'perhaps', 'myself', 'throughout', 'also', 'on', 'over', 'together', 'nine', 'when', '’s', 'therein', 'name', 'anyone', 'for', 'a', 'whereafter', 'up', 'down', 'n‘t', 'n’t', 'doing', 'everyone', 'top', 'with', 'whose', 'often', 'anyhow', 'per', 'the', 'afterwards', 'under', 'each', 'quite', 'much', 'thence', 'without', 'her', 'above', 'from', 'such', 'upon', 'whenever', 'should'}\n"
     ]
    }
   ],
   "source": [
    "print(nlp.Defaults.stop_words)"
   ]
  },
  {
   "cell_type": "code",
   "execution_count": 6,
   "metadata": {},
   "outputs": [
    {
     "data": {
      "text/plain": [
       "326"
      ]
     },
     "execution_count": 6,
     "metadata": {},
     "output_type": "execute_result"
    }
   ],
   "source": [
    "len(nlp.Defaults.stop_words)"
   ]
  },
  {
   "cell_type": "code",
   "execution_count": 7,
   "metadata": {},
   "outputs": [
    {
     "data": {
      "text/plain": [
       "<spacy.lexeme.Lexeme at 0x21f78036380>"
      ]
     },
     "execution_count": 7,
     "metadata": {},
     "output_type": "execute_result"
    }
   ],
   "source": [
    "nlp.vocab['is']"
   ]
  },
  {
   "cell_type": "code",
   "execution_count": 8,
   "metadata": {},
   "outputs": [
    {
     "data": {
      "text/plain": [
       "True"
      ]
     },
     "execution_count": 8,
     "metadata": {},
     "output_type": "execute_result"
    }
   ],
   "source": [
    "nlp.vocab['is'].is_stop"
   ]
  },
  {
   "cell_type": "code",
   "execution_count": 9,
   "metadata": {},
   "outputs": [
    {
     "data": {
      "text/plain": [
       "False"
      ]
     },
     "execution_count": 9,
     "metadata": {},
     "output_type": "execute_result"
    }
   ],
   "source": [
    "nlp.vocab['basketball'].is_stop"
   ]
  },
  {
   "cell_type": "markdown",
   "metadata": {},
   "source": [
    "## to add a stop word"
   ]
  },
  {
   "cell_type": "code",
   "execution_count": 10,
   "metadata": {},
   "outputs": [],
   "source": [
    "nlp.Defaults.stop_words.add('btw')"
   ]
  },
  {
   "cell_type": "code",
   "execution_count": 11,
   "metadata": {},
   "outputs": [],
   "source": [
    "nlp.vocab['btw'].is_stop = True"
   ]
  },
  {
   "cell_type": "code",
   "execution_count": 12,
   "metadata": {},
   "outputs": [
    {
     "data": {
      "text/plain": [
       "327"
      ]
     },
     "execution_count": 12,
     "metadata": {},
     "output_type": "execute_result"
    }
   ],
   "source": [
    "len(nlp.Defaults.stop_words)"
   ]
  },
  {
   "cell_type": "code",
   "execution_count": 13,
   "metadata": {},
   "outputs": [
    {
     "data": {
      "text/plain": [
       "True"
      ]
     },
     "execution_count": 13,
     "metadata": {},
     "output_type": "execute_result"
    }
   ],
   "source": [
    "nlp.vocab['btw'].is_stop"
   ]
  },
  {
   "cell_type": "markdown",
   "metadata": {},
   "source": [
    "## to remove a stop word"
   ]
  },
  {
   "cell_type": "code",
   "execution_count": 14,
   "metadata": {},
   "outputs": [],
   "source": [
    "nlp.Defaults.stop_words.remove('beyond')"
   ]
  },
  {
   "cell_type": "code",
   "execution_count": 15,
   "metadata": {},
   "outputs": [],
   "source": [
    "nlp.vocab['beyond'].is_stop = False"
   ]
  },
  {
   "cell_type": "code",
   "execution_count": 16,
   "metadata": {},
   "outputs": [
    {
     "data": {
      "text/plain": [
       "False"
      ]
     },
     "execution_count": 16,
     "metadata": {},
     "output_type": "execute_result"
    }
   ],
   "source": [
    "nlp.vocab['beyond'].is_stop"
   ]
  }
 ],
 "metadata": {
  "kernelspec": {
   "display_name": "Python 3",
   "language": "python",
   "name": "python3"
  },
  "language_info": {
   "codemirror_mode": {
    "name": "ipython",
    "version": 3
   },
   "file_extension": ".py",
   "mimetype": "text/x-python",
   "name": "python",
   "nbconvert_exporter": "python",
   "pygments_lexer": "ipython3",
   "version": "3.12.1"
  }
 },
 "nbformat": 4,
 "nbformat_minor": 2
}
